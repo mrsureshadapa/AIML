{
  "nbformat": 4,
  "nbformat_minor": 0,
  "metadata": {
    "colab": {
      "name": "Python_Basics_1.ipynb",
      "provenance": [],
      "collapsed_sections": [],
      "authorship_tag": "ABX9TyN1za13sokYz/uNyxx8lwqg",
      "include_colab_link": true
    },
    "kernelspec": {
      "name": "python3",
      "display_name": "Python 3"
    },
    "language_info": {
      "name": "python"
    }
  },
  "cells": [
    {
      "cell_type": "markdown",
      "metadata": {
        "id": "view-in-github",
        "colab_type": "text"
      },
      "source": [
        "<a href=\"https://colab.research.google.com/github/mrsureshadapa/AIML/blob/main/Python_Basics_1.ipynb\" target=\"_parent\"><img src=\"https://colab.research.google.com/assets/colab-badge.svg\" alt=\"Open In Colab\"/></a>"
      ]
    },
    {
      "cell_type": "code",
      "metadata": {
        "id": "3QWuaFtf_nnk"
      },
      "source": [
        "# Operators in python which are different "
      ],
      "execution_count": null,
      "outputs": []
    },
    {
      "cell_type": "code",
      "metadata": {
        "colab": {
          "base_uri": "https://localhost:8080/"
        },
        "id": "bqjP__GIAtcF",
        "outputId": "8f21646d-bfd7-43a7-d5c4-53b568338712"
      },
      "source": [
        "# Integer division is //, floating point division is /, remainder is %, ** is power\n",
        "\n",
        "a, b = 34, 5\n",
        "print('a/b:', a/b)\n",
        "print('a//b:', a//b)\n",
        "print('a%b', a%b)\n",
        "print('2**b:', 2**b)"
      ],
      "execution_count": 5,
      "outputs": [
        {
          "output_type": "stream",
          "text": [
            "a/b: 6.8\n",
            "a//b: 6\n",
            "a%b 4\n",
            "2**b: 32\n"
          ],
          "name": "stdout"
        }
      ]
    },
    {
      "cell_type": "code",
      "metadata": {
        "colab": {
          "base_uri": "https://localhost:8080/"
        },
        "id": "yo91kqpSBpjg",
        "outputId": "e7a92cea-981b-44a7-871a-32b15455acbd"
      },
      "source": [
        "print(\"This is line1\", end=\"\\n\")\n",
        "print(\"This is line2\", end=\"\\t\")\n",
        "print(\"This is line3\", end=\" \")\n",
        "print(\"This is line4\", end=\"\\\")"
      ],
      "execution_count": 12,
      "outputs": [
        {
          "output_type": "stream",
          "text": [
            "This is line1\n",
            "This is line2\tThis is line3 This is line4\n"
          ],
          "name": "stdout"
        }
      ]
    },
    {
      "cell_type": "code",
      "metadata": {
        "colab": {
          "base_uri": "https://localhost:8080/"
        },
        "id": "WqrnIxzRCX25",
        "outputId": "2d4fb1d6-5772-45ac-ea20-19023112161c"
      },
      "source": [
        "\"\"\"This is a multi-line comment\n",
        "that span across multiple\n",
        "lines\"\"\"\n",
        "#This is full line comment\n",
        "print(\"Hello Python\") #Inline comment\n",
        "\n"
      ],
      "execution_count": 17,
      "outputs": [
        {
          "output_type": "stream",
          "text": [
            "Hello Python\n"
          ],
          "name": "stdout"
        }
      ]
    },
    {
      "cell_type": "code",
      "metadata": {
        "id": "ls5r1d8GC-el"
      },
      "source": [
        "\"\"\"This is a multi-line comment.\n",
        "Write as little or as much as you'd like.\n",
        "\n",
        "Comments are really helpful for people reading\n",
        "your code, but try to keep them short & to-the-point.\n",
        "\n",
        "Also, if you use good variable names, then your code is\n",
        "often self explanatory, and you may not even need comments!\n",
        "\"\"\"\n",
        "a_neutral_number = 5"
      ],
      "execution_count": 14,
      "outputs": []
    },
    {
      "cell_type": "code",
      "metadata": {
        "colab": {
          "base_uri": "https://localhost:8080/"
        },
        "id": "G6yYYOemDUN1",
        "outputId": "c2f8d6e0-5e1c-487a-a4e8-0d7235bd72a7"
      },
      "source": [
        "#Accepting input from keyboard and printing the value\n",
        "var1 = input(\"Enter a value:\")\n",
        "print(\"Entered Value is:\", var1)"
      ],
      "execution_count": 18,
      "outputs": [
        {
          "output_type": "stream",
          "text": [
            "Enter a value:Suresh\n",
            "Entered Value is: Suresh\n"
          ],
          "name": "stdout"
        }
      ]
    },
    {
      "cell_type": "markdown",
      "metadata": {
        "id": "O477GwE8DoIw"
      },
      "source": [
        "Operators:\n",
        "Comparison: ==, !=, >, <, >=, <=, \n",
        "Boolean Values: True, False\n",
        "Logical Operators: and, or, not"
      ]
    },
    {
      "cell_type": "markdown",
      "metadata": {
        "id": "GiuVMIIPFILs"
      },
      "source": [
        "**You can use one or more # characters at the start of a line to create headers of different sizes:**"
      ]
    },
    {
      "cell_type": "markdown",
      "metadata": {
        "id": "CS9BwVhlEUdc"
      },
      "source": [
        "#This is header1\n",
        "##This is header2\n",
        "### This is header3\n",
        "#### This is header4\n",
        "######This is header6"
      ]
    },
    {
      "cell_type": "markdown",
      "metadata": {
        "id": "ubtjhPXTGOsQ"
      },
      "source": [
        "* Hello"
      ]
    },
    {
      "cell_type": "markdown",
      "metadata": {
        "id": "rs7xF1lEFeWR"
      },
      "source": [
        "**To create a bulleted or numbered list, simply start a line with * or 1:**"
      ]
    },
    {
      "cell_type": "markdown",
      "metadata": {
        "id": "4NpB6G_eE5IB"
      },
      "source": [
        "* Item1\n",
        "\n",
        "1. Machine1"
      ]
    }
  ]
}