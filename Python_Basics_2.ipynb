{
  "nbformat": 4,
  "nbformat_minor": 0,
  "metadata": {
    "colab": {
      "name": "Python_Basics_2.ipynb",
      "provenance": [],
      "collapsed_sections": [],
      "authorship_tag": "ABX9TyNcCRl6MK/zSDyGzBEPsJu5",
      "include_colab_link": true
    },
    "kernelspec": {
      "name": "python3",
      "display_name": "Python 3"
    },
    "language_info": {
      "name": "python"
    }
  },
  "cells": [
    {
      "cell_type": "markdown",
      "metadata": {
        "id": "view-in-github",
        "colab_type": "text"
      },
      "source": [
        "<a href=\"https://colab.research.google.com/github/mrsureshadapa/AIML/blob/main/Python_Basics_2.ipynb\" target=\"_parent\"><img src=\"https://colab.research.google.com/assets/colab-badge.svg\" alt=\"Open In Colab\"/></a>"
      ]
    },
    {
      "cell_type": "code",
      "metadata": {
        "colab": {
          "base_uri": "https://localhost:8080/"
        },
        "id": "_Pi11T_wHvyb",
        "outputId": "54fa8f06-7edb-46f3-d5de-0c84a420d66a"
      },
      "source": [
        "#Usage of if-elif-else block\n",
        "marks = input(\"Enter the marks\")\n",
        "marks = int(marks)# Value accepted from keyboard is considered as a string and comparison operators do not work between str and int\n",
        "#marks = 49\n",
        "if marks >= 60:\n",
        "  print(\"First Class\")\n",
        "elif marks >= 50:\n",
        "  print(\"Second Class\")\n",
        "elif marks >= 40:\n",
        "  print(\"Third Class\")\n",
        "else:\n",
        "  print(\"Failed\") "
      ],
      "execution_count": 4,
      "outputs": [
        {
          "output_type": "stream",
          "text": [
            "Third Class\n"
          ],
          "name": "stdout"
        }
      ]
    },
    {
      "cell_type": "code",
      "metadata": {
        "colab": {
          "base_uri": "https://localhost:8080/"
        },
        "id": "uHXp8luaJfRd",
        "outputId": "127c6d52-ca53-42de-8e15-3cf1050f68ef"
      },
      "source": [
        "#Printing the value of a variable in a format string\n",
        "val1 = int(input(\"Enter a number:\"))\n",
        "if val1%2 == 0:\n",
        "  print(\"{} is an even number:\".format(val1))\n",
        "else:\n",
        "  print(\"{} is an odd number\".format(val1))"
      ],
      "execution_count": 11,
      "outputs": [
        {
          "output_type": "stream",
          "text": [
            "Enter a number:34\n",
            "34 is an even number:\n"
          ],
          "name": "stdout"
        }
      ]
    },
    {
      "cell_type": "code",
      "metadata": {
        "colab": {
          "base_uri": "https://localhost:8080/"
        },
        "id": "YUPBrCf9K8Jm",
        "outputId": "cad4bc13-097e-4acd-dd48-bb050a0971d6"
      },
      "source": [
        "#Usage of pass when there are no statements to be executed\n",
        "val1 = 48\n",
        "if val1%5==0:\n",
        "  pass\n",
        "elif val1%7==0:\n",
        "  print(\"{} is divisible by 7 but not divisible by 5\".format(val1))\n",
        "else:\n",
        "  print(\"{} is not divisible by 7 nor divisible by 5\".format(val1))"
      ],
      "execution_count": 14,
      "outputs": [
        {
          "output_type": "stream",
          "text": [
            "48 is not divisible by 7 nor divisible by 5\n"
          ],
          "name": "stdout"
        }
      ]
    },
    {
      "cell_type": "code",
      "metadata": {
        "colab": {
          "base_uri": "https://localhost:8080/"
        },
        "id": "jr9gSaamLypf",
        "outputId": "2bc16b02-027a-4504-9ac7-9f04ba9facdf"
      },
      "source": [
        "#Example of while loop\n",
        "#print numbers from 1 to 10\n",
        "%%time #gives the time taken by the cell to execute\n",
        "i=1 \n",
        "while i<=10:\n",
        "  print(i, end=\" \")\n",
        "  i+=1"
      ],
      "execution_count": 16,
      "outputs": [
        {
          "output_type": "stream",
          "text": [
            "1 2 3 4 5 6 7 8 9 10 CPU times: user 558 µs, sys: 82 µs, total: 640 µs\n",
            "Wall time: 611 µs\n"
          ],
          "name": "stdout"
        }
      ]
    },
    {
      "cell_type": "code",
      "metadata": {
        "colab": {
          "base_uri": "https://localhost:8080/"
        },
        "id": "9Mv3BkyKOVzE",
        "outputId": "49af32dd-8163-4f13-dcc8-f52c6a816c5b"
      },
      "source": [
        "#Example of usage of break, continue\n",
        "i=0\n",
        "while i<=10:\n",
        "  i+=1\n",
        "  if i<6:\n",
        "    continue\n",
        "  elif i>8:\n",
        "    break\n",
        "  else:\n",
        "    print(i, end=\" \")"
      ],
      "execution_count": 2,
      "outputs": [
        {
          "output_type": "stream",
          "text": [
            "6 7 8 "
          ],
          "name": "stdout"
        }
      ]
    },
    {
      "cell_type": "code",
      "metadata": {
        "colab": {
          "base_uri": "https://localhost:8080/"
        },
        "id": "D7zWGg9RO8Um",
        "outputId": "f9334619-f50a-437a-f0ef-8c41cde75cc5"
      },
      "source": [
        "#Iteration with for loops\n",
        "days = ['Monday', 'Tuesday', 'Wednesday', 'Thursday', 'Friday']\n",
        "for day in days:\n",
        "  print(day)"
      ],
      "execution_count": 3,
      "outputs": [
        {
          "output_type": "stream",
          "text": [
            "Monday\n",
            "Tuesday\n",
            "Wednesday\n",
            "Thursday\n",
            "Friday\n"
          ],
          "name": "stdout"
        }
      ]
    },
    {
      "cell_type": "code",
      "metadata": {
        "colab": {
          "base_uri": "https://localhost:8080/"
        },
        "id": "kt7Ah1WTPIn7",
        "outputId": "c21ff3a6-7508-41e1-c8e7-37a6fe4484d6"
      },
      "source": [
        "#Looping over a tuple\n",
        "for day in ['Monday', 'Tuesday', 'Wednesday', 'Thursday', 'Friday']:\n",
        "  print(day)"
      ],
      "execution_count": 4,
      "outputs": [
        {
          "output_type": "stream",
          "text": [
            "Monday\n",
            "Tuesday\n",
            "Wednesday\n",
            "Thursday\n",
            "Friday\n"
          ],
          "name": "stdout"
        }
      ]
    },
    {
      "cell_type": "code",
      "metadata": {
        "colab": {
          "base_uri": "https://localhost:8080/"
        },
        "id": "35rSJZpAPflB",
        "outputId": "f47d175c-64b5-4ef7-eee6-fa68fb918ee5"
      },
      "source": [
        "# Looping over a string\n",
        "for char in 'Monday':\n",
        "    print(char)"
      ],
      "execution_count": 5,
      "outputs": [
        {
          "output_type": "stream",
          "text": [
            "M\n",
            "o\n",
            "n\n",
            "d\n",
            "a\n",
            "y\n"
          ],
          "name": "stdout"
        }
      ]
    },
    {
      "cell_type": "code",
      "metadata": {
        "colab": {
          "base_uri": "https://localhost:8080/"
        },
        "id": "O9YXm-J1PzCz",
        "outputId": "b3bc8082-6e28-4671-8acd-60614165a50d"
      },
      "source": [
        "# Looping over a dictionary using key\n",
        "person = {\n",
        "    'name': 'John Doe',\n",
        "    'sex': 'Male',\n",
        "    'age': 32,\n",
        "    'married': True\n",
        "}\n",
        "for key in person:\n",
        "  print(\"Key:\", key, \", \"\"Value:\", person[key])"
      ],
      "execution_count": 8,
      "outputs": [
        {
          "output_type": "stream",
          "text": [
            "Key: name , Value: John Doe\n",
            "Key: sex , Value: Male\n",
            "Key: age , Value: 32\n",
            "Key: married , Value: True\n"
          ],
          "name": "stdout"
        }
      ]
    },
    {
      "cell_type": "code",
      "metadata": {
        "colab": {
          "base_uri": "https://localhost:8080/"
        },
        "id": "ommBd83KQMLV",
        "outputId": "2ddd7e64-b25e-4f90-c294-39755e00efa7"
      },
      "source": [
        "# Looping over a dictionary using keys and values functions\n",
        "person = {\n",
        "    'name': 'John Doe',\n",
        "    'sex': 'Male',\n",
        "    'age': 32,\n",
        "    'married': True\n",
        "}\n",
        "print(\"Values:\")\n",
        "for value in person.values():\n",
        "  print(value)\n",
        "\n",
        "print(\"Keys:\")\n",
        "for key in person.keys():\n",
        "  print(key)"
      ],
      "execution_count": 13,
      "outputs": [
        {
          "output_type": "stream",
          "text": [
            "Values:\n",
            "John Doe\n",
            "Male\n",
            "32\n",
            "True\n",
            "Keys:\n",
            "name\n",
            "sex\n",
            "age\n",
            "married\n"
          ],
          "name": "stdout"
        }
      ]
    },
    {
      "cell_type": "code",
      "metadata": {
        "colab": {
          "base_uri": "https://localhost:8080/"
        },
        "id": "RhFxKvcLQvJv",
        "outputId": "903f0b79-42aa-42d3-e191-e4cdefed851a"
      },
      "source": [
        "# Looping over a dictionary using items function\n",
        "person = {\n",
        "    'name': 'John Doe',\n",
        "    'sex': 'Male',\n",
        "    'age': 32,\n",
        "    'married': True\n",
        "}\n",
        "\n",
        "print(\"Key and Value combined\")\n",
        "for key_value in person.items():\n",
        "  print(key_value)\n",
        "\n",
        "print(\"Key and Value seperately\")\n",
        "for key,value in person.items():\n",
        "  print(\"Key:\", key, \",\", \"Value:\", value)"
      ],
      "execution_count": 15,
      "outputs": [
        {
          "output_type": "stream",
          "text": [
            "Key and Value combined\n",
            "('name', 'John Doe')\n",
            "('sex', 'Male')\n",
            "('age', 32)\n",
            "('married', True)\n",
            "Key and Value seperately\n",
            "Key: name , Value: John Doe\n",
            "Key: sex , Value: Male\n",
            "Key: age , Value: 32\n",
            "Key: married , Value: True\n"
          ],
          "name": "stdout"
        }
      ]
    },
    {
      "cell_type": "markdown",
      "metadata": {
        "id": "I2AaBlRMRVhP"
      },
      "source": [
        "Iterating using range and enumerate\n",
        "The range function is used to create a sequence of numbers that can be iterated over using a for loop. It can be used in 3 ways:\n",
        "\n",
        "range(n) - Creates a sequence of numbers from 0 to n-1\n",
        "range(a, b) - Creates a sequence of numbers from a to b-1\n",
        "range(a, b, step) - Creates a sequence of numbers from a to b-1 with increments of step"
      ]
    },
    {
      "cell_type": "code",
      "metadata": {
        "colab": {
          "base_uri": "https://localhost:8080/"
        },
        "id": "t1D-SqehRXK5",
        "outputId": "2552aa9f-a97f-410b-ef5a-15c90115c783"
      },
      "source": [
        "for i in range(10):\n",
        "  print(i+1, end =\" \")"
      ],
      "execution_count": 17,
      "outputs": [
        {
          "output_type": "stream",
          "text": [
            "1 2 3 4 5 6 7 8 9 10 "
          ],
          "name": "stdout"
        }
      ]
    },
    {
      "cell_type": "code",
      "metadata": {
        "colab": {
          "base_uri": "https://localhost:8080/"
        },
        "id": "aYsN7QpoRhC_",
        "outputId": "0e4e6ecb-2eaa-4ca0-cda8-2a18e4f033c4"
      },
      "source": [
        "for i in range(1,11):\n",
        "  print(i, end=\" \")"
      ],
      "execution_count": 19,
      "outputs": [
        {
          "output_type": "stream",
          "text": [
            "1 2 3 4 5 6 7 8 9 10 "
          ],
          "name": "stdout"
        }
      ]
    },
    {
      "cell_type": "code",
      "metadata": {
        "colab": {
          "base_uri": "https://localhost:8080/"
        },
        "id": "dm3ATWA1RoR7",
        "outputId": "bd3b102d-c0b4-468d-a291-15d635d2cc22"
      },
      "source": [
        "print(\"Odd numbers from 1 to 10\")\n",
        "for i in range(1,11,2):\n",
        "  print(i, end=\" \")\n"
      ],
      "execution_count": 20,
      "outputs": [
        {
          "output_type": "stream",
          "text": [
            "Odd numbers from 1 to 10\n",
            "1 3 5 7 9 "
          ],
          "name": "stdout"
        }
      ]
    },
    {
      "cell_type": "code",
      "metadata": {
        "colab": {
          "base_uri": "https://localhost:8080/"
        },
        "id": "a6pmG0zfR894",
        "outputId": "fc1cb160-89f8-4bbb-82e1-2f942ccbedc4"
      },
      "source": [
        "a_list = ['Monday', 'Tuesday', 'Wednesday', 'Thursday', 'Friday']\n",
        "for i in range(len(a_list)):\n",
        "  print(\"Value at {} position is :\".format(i+1), a_list[i])"
      ],
      "execution_count": 25,
      "outputs": [
        {
          "output_type": "stream",
          "text": [
            "Value at 1 position is : Monday\n",
            "Value at 2 position is : Tuesday\n",
            "Value at 3 position is : Wednesday\n",
            "Value at 4 position is : Thursday\n",
            "Value at 5 position is : Friday\n"
          ],
          "name": "stdout"
        }
      ]
    },
    {
      "cell_type": "code",
      "metadata": {
        "colab": {
          "base_uri": "https://localhost:8080/"
        },
        "id": "FuWcq7PCSqLx",
        "outputId": "8bc2727f-18ba-4318-a577-2d0638d986dc"
      },
      "source": [
        "for i, val in enumerate(a_list):\n",
        "  print(\"Value at {} position is {}\".format(i, val))"
      ],
      "execution_count": 28,
      "outputs": [
        {
          "output_type": "stream",
          "text": [
            "Value at 0 position is Monday\n",
            "Value at 1 position is Tuesday\n",
            "Value at 2 position is Wednesday\n",
            "Value at 3 position is Thursday\n",
            "Value at 4 position is Friday\n"
          ],
          "name": "stdout"
        }
      ]
    }
  ]
}